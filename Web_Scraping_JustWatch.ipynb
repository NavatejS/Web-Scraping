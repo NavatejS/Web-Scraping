{
  "cells": [
    {
      "cell_type": "markdown",
      "metadata": {
        "id": "YU_opgaCYpcO"
      },
      "source": [
        "\n",
        "\n",
        "### **Website:**\n",
        "JustWatch -  https://www.justwatch.com/in/movies?release_year_from=2000\n",
        "\n",
        "\n",
        "### **Description:**\n",
        "\n",
        "JustWatch is a popular platform that allows users to search for movies and TV shows across multiple streaming services like Netflix, Amazon Prime, Hulu, etc. For this assignment, you will be required to scrape movie and TV show data from JustWatch using Selenium, Python, and BeautifulSoup. Extract data from HTML, not by directly calling their APIs. Then, perform data filtering and analysis using Pandas, and finally, save the results to a CSV file.\n",
        "\n",
        "\n",
        "\n",
        "\n"
      ]
    },
    {
      "cell_type": "markdown",
      "metadata": {
        "id": "-xHLaFLPn4yC"
      },
      "source": [
        "\n",
        "# **Web Scrapping**"
      ]
    },
    {
      "cell_type": "code",
      "execution_count": null,
      "metadata": {
        "id": "axiEsy9ZL3qd"
      },
      "outputs": [],
      "source": [
        "#Installing all necessary labraries\n",
        "!pip install bs4\n",
        "!pip install requests\n",
        "!pip install selenium"
      ]
    },
    {
      "cell_type": "code",
      "execution_count": null,
      "metadata": {
        "id": "omJlLZASQBmU"
      },
      "outputs": [],
      "source": [
        "#import all necessary labraries\n",
        "import requests\n",
        "from bs4 import BeautifulSoup\n",
        "import re\n",
        "import pandas as pd\n",
        "import numpy as np\n",
        "import time\n",
        "\n",
        "from selenium import webdriver\n",
        "from selenium.webdriver.common.by import By"
      ]
    },
    {
      "cell_type": "markdown",
      "metadata": {
        "id": "NCWbwB1Og3bD"
      },
      "source": [
        "## **Scrapping Movies Data**"
      ]
    },
    {
      "cell_type": "code",
      "execution_count": null,
      "metadata": {
        "id": "nPDgza5mQJKr"
      },
      "outputs": [],
      "source": [
        "# Specifying the URL from which movies related data will be fetched\n",
        "url='https://www.justwatch.com/in/movies?release_year_from=2000'\n",
        "\n",
        "# Sending an HTTP GET request to the URL\n",
        "page=requests.get(url)\n",
        "# Parsing the HTML content using BeautifulSoup with the 'html.parser'\n",
        "soup=BeautifulSoup(page.text,'html.parser')\n",
        "# Printing the prettified HTML content\n",
        "print(soup.prettify())"
      ]
    },
    {
      "cell_type": "markdown",
      "metadata": {
        "id": "V-qsNrtIsBEp"
      },
      "source": [
        "## **Fetching Movie URL's**"
      ]
    },
    {
      "cell_type": "code",
      "execution_count": null,
      "metadata": {
        "id": "nXj9U4lshQY1",
        "colab": {
          "base_uri": "https://localhost:8080/"
        },
        "outputId": "76c9faf6-48be-485b-9cdd-39aa69bca4b3"
      },
      "outputs": [
        {
          "output_type": "execute_result",
          "data": {
            "text/plain": [
              "['https://www.justwatch.com/in/movie/untitled-shahid-kapoor-kriti-sanon-film',\n",
              " 'https://www.justwatch.com/in/movie/premalu',\n",
              " 'https://www.justwatch.com/in/movie/hanu-man',\n",
              " 'https://www.justwatch.com/in/movie/oppenheimer',\n",
              " 'https://www.justwatch.com/in/movie/anatomie-dune-chute',\n",
              " 'https://www.justwatch.com/in/movie/article-370',\n",
              " 'https://www.justwatch.com/in/movie/dune-part-two',\n",
              " 'https://www.justwatch.com/in/movie/the-crew-2024',\n",
              " 'https://www.justwatch.com/in/movie/fighter-2022',\n",
              " 'https://www.justwatch.com/in/movie/manjummel-boys',\n",
              " 'https://www.justwatch.com/in/movie/animal-2022',\n",
              " 'https://www.justwatch.com/in/movie/anyone-but-you',\n",
              " 'https://www.justwatch.com/in/movie/dune-2021',\n",
              " 'https://www.justwatch.com/in/movie/amar-singh-chamkila',\n",
              " 'https://www.justwatch.com/in/movie/12th-fail',\n",
              " 'https://www.justwatch.com/in/movie/godzilla-x-kong-the-new-empire',\n",
              " 'https://www.justwatch.com/in/movie/bramayugam',\n",
              " 'https://www.justwatch.com/in/movie/poor-things',\n",
              " 'https://www.justwatch.com/in/movie/black-magic-2024',\n",
              " 'https://www.justwatch.com/in/movie/road-house-2024',\n",
              " 'https://www.justwatch.com/in/movie/laapataa-ladies',\n",
              " 'https://www.justwatch.com/in/movie/sam-bahadur',\n",
              " 'https://www.justwatch.com/in/movie/gaami',\n",
              " 'https://www.justwatch.com/in/movie/madame-web',\n",
              " 'https://www.justwatch.com/in/movie/kung-fu-panda-4',\n",
              " 'https://www.justwatch.com/in/movie/monkey-man',\n",
              " 'https://www.justwatch.com/in/movie/kung-fu-panda',\n",
              " 'https://www.justwatch.com/in/movie/salaar',\n",
              " 'https://www.justwatch.com/in/movie/the-beekeeper-2024',\n",
              " 'https://www.justwatch.com/in/movie/365-days',\n",
              " 'https://www.justwatch.com/in/movie/madgaon-express',\n",
              " 'https://www.justwatch.com/in/movie/dj-tillu',\n",
              " 'https://www.justwatch.com/in/movie/godzilla-vs-kong',\n",
              " 'https://www.justwatch.com/in/movie/aadujeevitham',\n",
              " 'https://www.justwatch.com/in/movie/lover-2024',\n",
              " 'https://www.justwatch.com/in/movie/merry-christmas-2024',\n",
              " 'https://www.justwatch.com/in/movie/joker-2019',\n",
              " 'https://www.justwatch.com/in/movie/aquaman-and-the-lost-kingdom',\n",
              " 'https://www.justwatch.com/in/movie/the-kerala-story',\n",
              " 'https://www.justwatch.com/in/movie/om-bheem-bush',\n",
              " 'https://www.justwatch.com/in/movie/eagle-2024',\n",
              " 'https://www.justwatch.com/in/movie/harry-potter-and-the-philosophers-stone',\n",
              " 'https://www.justwatch.com/in/movie/kampon',\n",
              " 'https://www.justwatch.com/in/movie/aattam',\n",
              " 'https://www.justwatch.com/in/movie/bade-miyan-chote-miyan-2023',\n",
              " 'https://www.justwatch.com/in/movie/777-charlie',\n",
              " 'https://www.justwatch.com/in/movie/murder-mubarak',\n",
              " 'https://www.justwatch.com/in/movie/chaari-111',\n",
              " 'https://www.justwatch.com/in/movie/she-said',\n",
              " 'https://www.justwatch.com/in/movie/argylle',\n",
              " 'https://www.justwatch.com/in/movie/migration',\n",
              " 'https://www.justwatch.com/in/movie/family-star',\n",
              " 'https://www.justwatch.com/in/movie/godzilla-minus-one',\n",
              " 'https://www.justwatch.com/in/movie/joram',\n",
              " 'https://www.justwatch.com/in/movie/the-holdovers',\n",
              " 'https://www.justwatch.com/in/movie/abraham-ozler',\n",
              " 'https://www.justwatch.com/in/movie/zara-hatke-zara-bach-ke',\n",
              " 'https://www.justwatch.com/in/movie/ferrari',\n",
              " 'https://www.justwatch.com/in/movie/scoop-0',\n",
              " 'https://www.justwatch.com/in/movie/speak-no-evil-2022',\n",
              " 'https://www.justwatch.com/in/movie/swatantra-veer-savarkar',\n",
              " 'https://www.justwatch.com/in/movie/por',\n",
              " 'https://www.justwatch.com/in/movie/maidaan',\n",
              " 'https://www.justwatch.com/in/movie/rebel-2024',\n",
              " 'https://www.justwatch.com/in/movie/rush-2013',\n",
              " 'https://www.justwatch.com/in/movie/yodha-2022',\n",
              " 'https://www.justwatch.com/in/movie/tillu-square',\n",
              " 'https://www.justwatch.com/in/movie/dunki',\n",
              " 'https://www.justwatch.com/in/movie/anweshippin-kandethum',\n",
              " 'https://www.justwatch.com/in/movie/pushpa',\n",
              " 'https://www.justwatch.com/in/movie/interstellar',\n",
              " 'https://www.justwatch.com/in/movie/k-g-f-chapter-2',\n",
              " 'https://www.justwatch.com/in/movie/rebel-moon-part-two-the-scargiver',\n",
              " 'https://www.justwatch.com/in/movie/crakk-jeetegaa-toh-jiyegaa',\n",
              " 'https://www.justwatch.com/in/movie/ravening',\n",
              " 'https://www.justwatch.com/in/movie/tomb-raider',\n",
              " 'https://www.justwatch.com/in/movie/anchakkallakokkan',\n",
              " 'https://www.justwatch.com/in/movie/farrey',\n",
              " 'https://www.justwatch.com/in/movie/godzilla',\n",
              " 'https://www.justwatch.com/in/movie/kong-skull-island',\n",
              " 'https://www.justwatch.com/in/movie/the-wolf-of-wall-street',\n",
              " 'https://www.justwatch.com/in/movie/yatra-2',\n",
              " 'https://www.justwatch.com/in/movie/tee-yod',\n",
              " 'https://www.justwatch.com/in/movie/along-with-the-gods-the-two-worlds',\n",
              " 'https://www.justwatch.com/in/movie/jawan',\n",
              " 'https://www.justwatch.com/in/movie/jatt-nuu-chudail-takri',\n",
              " 'https://www.justwatch.com/in/movie/godzilla-king-of-the-monsters',\n",
              " 'https://www.justwatch.com/in/movie/aavesham-2024',\n",
              " 'https://www.justwatch.com/in/movie/ayalaan',\n",
              " 'https://www.justwatch.com/in/movie/dada-2023',\n",
              " 'https://www.justwatch.com/in/movie/new-york-i-love-you',\n",
              " 'https://www.justwatch.com/in/movie/rocky-aur-rani-ki-prem-kahani',\n",
              " 'https://www.justwatch.com/in/movie/kung-fu-panda-2',\n",
              " 'https://www.justwatch.com/in/movie/rockstar',\n",
              " 'https://www.justwatch.com/in/movie/john-wick',\n",
              " 'https://www.justwatch.com/in/movie/barbie-2023',\n",
              " 'https://www.justwatch.com/in/movie/case-of-kondana',\n",
              " 'https://www.justwatch.com/in/movie/joshua-imai-pol-kaka',\n",
              " 'https://www.justwatch.com/in/movie/2012',\n",
              " 'https://www.justwatch.com/in/movie/night-of-the-hunted']"
            ]
          },
          "metadata": {},
          "execution_count": 9
        }
      ],
      "source": [
        "# Write Your Code here\n",
        "movie_links = soup.find_all('a', class_='title-list-grid__item--link')\n",
        "movie_urls = [link['href'] for link in movie_links]\n",
        "base_url = 'https://www.justwatch.com'\n",
        "movie_urls = [base_url + link['href'] for link in movie_links]\n",
        "movie_urls"
      ]
    },
    {
      "cell_type": "markdown",
      "metadata": {
        "id": "Dam_ehZgvgmw"
      },
      "source": [
        "## **Scrapping Movie Title**"
      ]
    },
    {
      "cell_type": "code",
      "execution_count": null,
      "metadata": {
        "id": "1FGDXRKQxd1s"
      },
      "outputs": [],
      "source": [
        "# Write Your Code here\n",
        "import time\n",
        "movie_titles = []\n",
        "for url in movie_urls:\n",
        "    response = requests.get(url)\n",
        "    soup = BeautifulSoup(response.content, 'html.parser')\n",
        "    h1_tag = soup.find('h1')\n",
        "    title = h1_tag.text.strip() if h1_tag else 'Title not found'\n",
        "    movie_titles.append(title)"
      ]
    },
    {
      "cell_type": "markdown",
      "metadata": {
        "id": "VEg1U1uPzGoj"
      },
      "source": [
        "## **Scrapping release Year**"
      ]
    },
    {
      "cell_type": "code",
      "execution_count": null,
      "metadata": {
        "id": "wLqLKOvP5Gmt"
      },
      "outputs": [],
      "source": [
        "# Write Your Code here\n",
        "import time\n",
        "release_year = []\n",
        "for url in movie_urls:\n",
        "    response = requests.get(url)\n",
        "    soup = BeautifulSoup(response.content, 'html.parser')\n",
        "    year_span = soup.find('span', class_='text-muted')\n",
        "    year = year_span.text.strip() if year_span else 'Year not found'\n",
        "    release_year.append(year)"
      ]
    },
    {
      "cell_type": "markdown",
      "metadata": {
        "id": "aqzhL8STqaMX"
      },
      "source": [
        "## **Scrapping Genres**"
      ]
    },
    {
      "cell_type": "code",
      "execution_count": null,
      "metadata": {
        "id": "NYGVsfKjrDWr"
      },
      "outputs": [],
      "source": [
        "# Write Your Code here\n",
        "genres_list = []\n",
        "for url in movie_urls:\n",
        "    response = requests.get(url)\n",
        "    if response.status_code == 200:\n",
        "        soup = BeautifulSoup(response.content, 'html.parser')\n",
        "        heading_tag = soup.find('h3', class_='detail-infos__subheading', string='Genres')\n",
        "        if heading_tag:\n",
        "            genre_tag = heading_tag.find_next_sibling('div', class_='detail-infos__value')\n",
        "            if genre_tag:\n",
        "                genre = genre_tag.text.strip()\n",
        "                genres_list.append(genre)\n",
        "            else:\n",
        "                genres_list.append('NA')\n",
        "        else:\n",
        "            genres_list.append('NA')\n",
        "    else:\n",
        "        genres_list.append('NA')"
      ]
    },
    {
      "cell_type": "markdown",
      "metadata": {
        "id": "UOof6-0xFuf6"
      },
      "source": [
        "## **Scrapping IMBD Rating**"
      ]
    },
    {
      "cell_type": "code",
      "execution_count": null,
      "metadata": {
        "id": "gW467MLx6aCH"
      },
      "outputs": [],
      "source": [
        "# Write Your Code here\n",
        "imdb_ratings = []\n",
        "for url in movie_urls:\n",
        "    response = requests.get(url)\n",
        "    if response.status_code == 200:\n",
        "        soup = BeautifulSoup(response.content, 'html.parser')\n",
        "        heading_tag = soup.find('h3', class_='detail-infos__subheading', string='Rating')\n",
        "        if heading_tag:\n",
        "            imdb_tag = heading_tag.find_next_sibling('div', class_='detail-infos__value')\n",
        "            if imdb_tag:\n",
        "                imdb = imdb_tag.text.strip()\n",
        "                imdb_ratings.append(imdb)\n",
        "            else:\n",
        "                imdb_ratings.append('NA')\n",
        "        else:\n",
        "            imdb_ratings.append('NA')\n",
        "    else:\n",
        "        imdb_ratings.append('NA')"
      ]
    },
    {
      "cell_type": "markdown",
      "metadata": {
        "id": "8CHiu0A5RAuM"
      },
      "source": [
        "## **Scrapping Runtime/Duration**"
      ]
    },
    {
      "cell_type": "code",
      "execution_count": null,
      "metadata": {
        "id": "si_yaGO8OTBo"
      },
      "outputs": [],
      "source": [
        "# Write Your Code here\n",
        "runtime = []\n",
        "for url in movie_urls:\n",
        "    response = requests.get(url)\n",
        "    if response.status_code == 200:\n",
        "        soup = BeautifulSoup(response.content, 'html.parser')\n",
        "        heading_tag = soup.find('h3', class_='detail-infos__subheading', string='Runtime')\n",
        "        if heading_tag:\n",
        "            runtime_tag = heading_tag.find_next_sibling('div', class_='detail-infos__value')\n",
        "            if runtime_tag:\n",
        "                runtimes = runtime_tag.text.strip()\n",
        "                runtime.append(runtimes)\n",
        "            else:\n",
        "                runtime.append('NA')\n",
        "        else:\n",
        "            runtime.append('NA')\n",
        "    else:\n",
        "        runtime.append('NA')"
      ]
    },
    {
      "cell_type": "markdown",
      "metadata": {
        "id": "edb4gsNcRJQN"
      },
      "source": [
        "## **Scrapping Age Rating**"
      ]
    },
    {
      "cell_type": "code",
      "execution_count": null,
      "metadata": {
        "id": "ZsHskhOcNAUj"
      },
      "outputs": [],
      "source": [
        "# Write Your Code here\n",
        "age_ratings = []\n",
        "for url in movie_urls:\n",
        "    response = requests.get(url)\n",
        "    if response.status_code == 200:\n",
        "        soup = BeautifulSoup(response.content, 'html.parser')\n",
        "        heading_tag = soup.find('h3', class_='detail-infos__subheading', string='Age rating')\n",
        "        if heading_tag:\n",
        "            age_tag = heading_tag.find_next_sibling('div', class_='detail-infos__value')\n",
        "            if runtime_tag:\n",
        "                age_rating = age_tag.text.strip()\n",
        "                age_ratings.append(age_rating)\n",
        "            else:\n",
        "                age_ratings.append('NA')\n",
        "        else:\n",
        "            age_ratings.append('NA')\n",
        "    else:\n",
        "        age_ratings.append('NA')"
      ]
    },
    {
      "cell_type": "markdown",
      "metadata": {
        "id": "_RI5FD3CqFVV"
      },
      "source": [
        "## **Fetching Production Countries Details**"
      ]
    },
    {
      "cell_type": "code",
      "execution_count": null,
      "metadata": {
        "id": "ai6YOgZmYIcc"
      },
      "outputs": [],
      "source": [
        "# Write Your Code here\n",
        "prod_countries = []\n",
        "for url in movie_urls:\n",
        "    response = requests.get(url)\n",
        "    if response.status_code == 200:\n",
        "        soup = BeautifulSoup(response.content, 'html.parser')\n",
        "        heading_tag = soup.find('h3', class_='detail-infos__subheading', string=' Production country ')\n",
        "        if heading_tag:\n",
        "            prod_tag = heading_tag.find_next_sibling('div', class_='detail-infos__value')\n",
        "            if runtime_tag:\n",
        "                prod_country = prod_tag.text.strip()\n",
        "                prod_countries.append(prod_country)\n",
        "            else:\n",
        "                prod_countries.append('NA')\n",
        "        else:\n",
        "            prod_countries.append('NA')\n",
        "    else:\n",
        "        prod_countries.append('NA')"
      ]
    },
    {
      "cell_type": "markdown",
      "metadata": {
        "id": "IrJlIsBWrO2r"
      },
      "source": [
        "## **Fetching Streaming Service Details**"
      ]
    },
    {
      "cell_type": "code",
      "execution_count": null,
      "metadata": {
        "id": "Yk72jDLZu7EZ"
      },
      "outputs": [],
      "source": [
        "# Write Your Code here\n",
        "streaming_services = []\n",
        "streaming_service_keywords = ['primevideo', 'netflix', 'jiocinema', 'hotstar', 'sonyliv', 'voot', 'zee5', 'apple tv+']\n",
        "\n",
        "for url in movie_urls:\n",
        "    response = requests.get(url)\n",
        "    if response.status_code == 200:\n",
        "        soup = BeautifulSoup(response.content, 'html.parser')\n",
        "        buybox_divs = soup.find_all('div', class_='buybox-row__offers')\n",
        "        services_found = set()\n",
        "        for buybox_div in buybox_divs:\n",
        "            offer_link = buybox_div.find('a')['href']\n",
        "            for keyword in streaming_service_keywords:\n",
        "                if re.search(keyword, offer_link, re.IGNORECASE):\n",
        "                    services_found.add(keyword)\n",
        "                    break\n",
        "        if services_found:\n",
        "            streaming_services.append(list(services_found))\n",
        "        else:\n",
        "            streaming_services.append([\"NA\"])\n",
        "    else:\n",
        "        streaming_services.append([\"NA\"])"
      ]
    },
    {
      "cell_type": "markdown",
      "metadata": {
        "id": "Mnh22VX_7f6K"
      },
      "source": [
        "## **Now Creating Movies DataFrame**"
      ]
    },
    {
      "cell_type": "code",
      "execution_count": null,
      "metadata": {
        "id": "i7XQUICP5oBI",
        "colab": {
          "base_uri": "https://localhost:8080/",
          "height": 555
        },
        "outputId": "e19105e9-f0d5-4e8d-fd88-57e4a9b7d07b"
      },
      "outputs": [
        {
          "output_type": "execute_result",
          "data": {
            "text/plain": [
              "                                           movie_urls  \\\n",
              "0   https://www.justwatch.com/in/movie/untitled-sh...   \n",
              "1          https://www.justwatch.com/in/movie/premalu   \n",
              "2         https://www.justwatch.com/in/movie/hanu-man   \n",
              "3      https://www.justwatch.com/in/movie/oppenheimer   \n",
              "4   https://www.justwatch.com/in/movie/anatomie-du...   \n",
              "..                                                ...   \n",
              "95     https://www.justwatch.com/in/movie/barbie-2023   \n",
              "96  https://www.justwatch.com/in/movie/case-of-kon...   \n",
              "97  https://www.justwatch.com/in/movie/joshua-imai...   \n",
              "98            https://www.justwatch.com/in/movie/2012   \n",
              "99  https://www.justwatch.com/in/movie/night-of-th...   \n",
              "\n",
              "                        movie_titles    release_year  \\\n",
              "0   Teri Baaton Mein Aisa Uljha Jiya          (2024)   \n",
              "1                            Premalu  Year not found   \n",
              "2                           Hanu-Man  Year not found   \n",
              "3                        Oppenheimer  Year not found   \n",
              "4                  Anatomy of a Fall  Year not found   \n",
              "..                               ...             ...   \n",
              "95                   Title not found  Year not found   \n",
              "96                   Title not found  Year not found   \n",
              "97                   Title not found  Year not found   \n",
              "98                   Title not found  Year not found   \n",
              "99                   Title not found  Year not found   \n",
              "\n",
              "                                               genres imdb_ratings   runtime  \\\n",
              "0             Comedy, Drama, Romance, Science-Fiction   6.4  (47k)  2h 21min   \n",
              "1                                     Comedy, Romance    8.0  (7k)  2h 36min   \n",
              "2   Science-Fiction, Fantasy, Action & Adventure, ...   7.9  (22k)        NA   \n",
              "3                                      Drama, History           NA        NA   \n",
              "4                    Mystery & Thriller, Drama, Crime           NA        NA   \n",
              "..                                                ...          ...       ...   \n",
              "95                                                 NA           NA        NA   \n",
              "96                                                 NA           NA        NA   \n",
              "97                                                 NA           NA        NA   \n",
              "98                Action & Adventure, Science-Fiction           NA        NA   \n",
              "99                                                 NA           NA        NA   \n",
              "\n",
              "   age_ratings prod_countries streaming_services  \n",
              "0           NA          India       [primevideo]  \n",
              "1            U          India               [NA]  \n",
              "2           NA             NA               [NA]  \n",
              "3           NA             NA               [NA]  \n",
              "4           NA             NA               [NA]  \n",
              "..         ...            ...                ...  \n",
              "95          NA             NA               [NA]  \n",
              "96          NA             NA               [NA]  \n",
              "97          NA             NA               [NA]  \n",
              "98          NA             NA               [NA]  \n",
              "99          NA             NA               [NA]  \n",
              "\n",
              "[100 rows x 9 columns]"
            ],
            "text/html": [
              "\n",
              "  <div id=\"df-dad7927c-61c6-4c04-9f7b-2231391935d1\" class=\"colab-df-container\">\n",
              "    <div>\n",
              "<style scoped>\n",
              "    .dataframe tbody tr th:only-of-type {\n",
              "        vertical-align: middle;\n",
              "    }\n",
              "\n",
              "    .dataframe tbody tr th {\n",
              "        vertical-align: top;\n",
              "    }\n",
              "\n",
              "    .dataframe thead th {\n",
              "        text-align: right;\n",
              "    }\n",
              "</style>\n",
              "<table border=\"1\" class=\"dataframe\">\n",
              "  <thead>\n",
              "    <tr style=\"text-align: right;\">\n",
              "      <th></th>\n",
              "      <th>movie_urls</th>\n",
              "      <th>movie_titles</th>\n",
              "      <th>release_year</th>\n",
              "      <th>genres</th>\n",
              "      <th>imdb_ratings</th>\n",
              "      <th>runtime</th>\n",
              "      <th>age_ratings</th>\n",
              "      <th>prod_countries</th>\n",
              "      <th>streaming_services</th>\n",
              "    </tr>\n",
              "  </thead>\n",
              "  <tbody>\n",
              "    <tr>\n",
              "      <th>0</th>\n",
              "      <td>https://www.justwatch.com/in/movie/untitled-sh...</td>\n",
              "      <td>Teri Baaton Mein Aisa Uljha Jiya</td>\n",
              "      <td>(2024)</td>\n",
              "      <td>Comedy, Drama, Romance, Science-Fiction</td>\n",
              "      <td>6.4  (47k)</td>\n",
              "      <td>2h 21min</td>\n",
              "      <td>NA</td>\n",
              "      <td>India</td>\n",
              "      <td>[primevideo]</td>\n",
              "    </tr>\n",
              "    <tr>\n",
              "      <th>1</th>\n",
              "      <td>https://www.justwatch.com/in/movie/premalu</td>\n",
              "      <td>Premalu</td>\n",
              "      <td>Year not found</td>\n",
              "      <td>Comedy, Romance</td>\n",
              "      <td>8.0  (7k)</td>\n",
              "      <td>2h 36min</td>\n",
              "      <td>U</td>\n",
              "      <td>India</td>\n",
              "      <td>[NA]</td>\n",
              "    </tr>\n",
              "    <tr>\n",
              "      <th>2</th>\n",
              "      <td>https://www.justwatch.com/in/movie/hanu-man</td>\n",
              "      <td>Hanu-Man</td>\n",
              "      <td>Year not found</td>\n",
              "      <td>Science-Fiction, Fantasy, Action &amp; Adventure, ...</td>\n",
              "      <td>7.9  (22k)</td>\n",
              "      <td>NA</td>\n",
              "      <td>NA</td>\n",
              "      <td>NA</td>\n",
              "      <td>[NA]</td>\n",
              "    </tr>\n",
              "    <tr>\n",
              "      <th>3</th>\n",
              "      <td>https://www.justwatch.com/in/movie/oppenheimer</td>\n",
              "      <td>Oppenheimer</td>\n",
              "      <td>Year not found</td>\n",
              "      <td>Drama, History</td>\n",
              "      <td>NA</td>\n",
              "      <td>NA</td>\n",
              "      <td>NA</td>\n",
              "      <td>NA</td>\n",
              "      <td>[NA]</td>\n",
              "    </tr>\n",
              "    <tr>\n",
              "      <th>4</th>\n",
              "      <td>https://www.justwatch.com/in/movie/anatomie-du...</td>\n",
              "      <td>Anatomy of a Fall</td>\n",
              "      <td>Year not found</td>\n",
              "      <td>Mystery &amp; Thriller, Drama, Crime</td>\n",
              "      <td>NA</td>\n",
              "      <td>NA</td>\n",
              "      <td>NA</td>\n",
              "      <td>NA</td>\n",
              "      <td>[NA]</td>\n",
              "    </tr>\n",
              "    <tr>\n",
              "      <th>...</th>\n",
              "      <td>...</td>\n",
              "      <td>...</td>\n",
              "      <td>...</td>\n",
              "      <td>...</td>\n",
              "      <td>...</td>\n",
              "      <td>...</td>\n",
              "      <td>...</td>\n",
              "      <td>...</td>\n",
              "      <td>...</td>\n",
              "    </tr>\n",
              "    <tr>\n",
              "      <th>95</th>\n",
              "      <td>https://www.justwatch.com/in/movie/barbie-2023</td>\n",
              "      <td>Title not found</td>\n",
              "      <td>Year not found</td>\n",
              "      <td>NA</td>\n",
              "      <td>NA</td>\n",
              "      <td>NA</td>\n",
              "      <td>NA</td>\n",
              "      <td>NA</td>\n",
              "      <td>[NA]</td>\n",
              "    </tr>\n",
              "    <tr>\n",
              "      <th>96</th>\n",
              "      <td>https://www.justwatch.com/in/movie/case-of-kon...</td>\n",
              "      <td>Title not found</td>\n",
              "      <td>Year not found</td>\n",
              "      <td>NA</td>\n",
              "      <td>NA</td>\n",
              "      <td>NA</td>\n",
              "      <td>NA</td>\n",
              "      <td>NA</td>\n",
              "      <td>[NA]</td>\n",
              "    </tr>\n",
              "    <tr>\n",
              "      <th>97</th>\n",
              "      <td>https://www.justwatch.com/in/movie/joshua-imai...</td>\n",
              "      <td>Title not found</td>\n",
              "      <td>Year not found</td>\n",
              "      <td>NA</td>\n",
              "      <td>NA</td>\n",
              "      <td>NA</td>\n",
              "      <td>NA</td>\n",
              "      <td>NA</td>\n",
              "      <td>[NA]</td>\n",
              "    </tr>\n",
              "    <tr>\n",
              "      <th>98</th>\n",
              "      <td>https://www.justwatch.com/in/movie/2012</td>\n",
              "      <td>Title not found</td>\n",
              "      <td>Year not found</td>\n",
              "      <td>Action &amp; Adventure, Science-Fiction</td>\n",
              "      <td>NA</td>\n",
              "      <td>NA</td>\n",
              "      <td>NA</td>\n",
              "      <td>NA</td>\n",
              "      <td>[NA]</td>\n",
              "    </tr>\n",
              "    <tr>\n",
              "      <th>99</th>\n",
              "      <td>https://www.justwatch.com/in/movie/night-of-th...</td>\n",
              "      <td>Title not found</td>\n",
              "      <td>Year not found</td>\n",
              "      <td>NA</td>\n",
              "      <td>NA</td>\n",
              "      <td>NA</td>\n",
              "      <td>NA</td>\n",
              "      <td>NA</td>\n",
              "      <td>[NA]</td>\n",
              "    </tr>\n",
              "  </tbody>\n",
              "</table>\n",
              "<p>100 rows × 9 columns</p>\n",
              "</div>\n",
              "    <div class=\"colab-df-buttons\">\n",
              "\n",
              "  <div class=\"colab-df-container\">\n",
              "    <button class=\"colab-df-convert\" onclick=\"convertToInteractive('df-dad7927c-61c6-4c04-9f7b-2231391935d1')\"\n",
              "            title=\"Convert this dataframe to an interactive table.\"\n",
              "            style=\"display:none;\">\n",
              "\n",
              "  <svg xmlns=\"http://www.w3.org/2000/svg\" height=\"24px\" viewBox=\"0 -960 960 960\">\n",
              "    <path d=\"M120-120v-720h720v720H120Zm60-500h600v-160H180v160Zm220 220h160v-160H400v160Zm0 220h160v-160H400v160ZM180-400h160v-160H180v160Zm440 0h160v-160H620v160ZM180-180h160v-160H180v160Zm440 0h160v-160H620v160Z\"/>\n",
              "  </svg>\n",
              "    </button>\n",
              "\n",
              "  <style>\n",
              "    .colab-df-container {\n",
              "      display:flex;\n",
              "      gap: 12px;\n",
              "    }\n",
              "\n",
              "    .colab-df-convert {\n",
              "      background-color: #E8F0FE;\n",
              "      border: none;\n",
              "      border-radius: 50%;\n",
              "      cursor: pointer;\n",
              "      display: none;\n",
              "      fill: #1967D2;\n",
              "      height: 32px;\n",
              "      padding: 0 0 0 0;\n",
              "      width: 32px;\n",
              "    }\n",
              "\n",
              "    .colab-df-convert:hover {\n",
              "      background-color: #E2EBFA;\n",
              "      box-shadow: 0px 1px 2px rgba(60, 64, 67, 0.3), 0px 1px 3px 1px rgba(60, 64, 67, 0.15);\n",
              "      fill: #174EA6;\n",
              "    }\n",
              "\n",
              "    .colab-df-buttons div {\n",
              "      margin-bottom: 4px;\n",
              "    }\n",
              "\n",
              "    [theme=dark] .colab-df-convert {\n",
              "      background-color: #3B4455;\n",
              "      fill: #D2E3FC;\n",
              "    }\n",
              "\n",
              "    [theme=dark] .colab-df-convert:hover {\n",
              "      background-color: #434B5C;\n",
              "      box-shadow: 0px 1px 3px 1px rgba(0, 0, 0, 0.15);\n",
              "      filter: drop-shadow(0px 1px 2px rgba(0, 0, 0, 0.3));\n",
              "      fill: #FFFFFF;\n",
              "    }\n",
              "  </style>\n",
              "\n",
              "    <script>\n",
              "      const buttonEl =\n",
              "        document.querySelector('#df-dad7927c-61c6-4c04-9f7b-2231391935d1 button.colab-df-convert');\n",
              "      buttonEl.style.display =\n",
              "        google.colab.kernel.accessAllowed ? 'block' : 'none';\n",
              "\n",
              "      async function convertToInteractive(key) {\n",
              "        const element = document.querySelector('#df-dad7927c-61c6-4c04-9f7b-2231391935d1');\n",
              "        const dataTable =\n",
              "          await google.colab.kernel.invokeFunction('convertToInteractive',\n",
              "                                                    [key], {});\n",
              "        if (!dataTable) return;\n",
              "\n",
              "        const docLinkHtml = 'Like what you see? Visit the ' +\n",
              "          '<a target=\"_blank\" href=https://colab.research.google.com/notebooks/data_table.ipynb>data table notebook</a>'\n",
              "          + ' to learn more about interactive tables.';\n",
              "        element.innerHTML = '';\n",
              "        dataTable['output_type'] = 'display_data';\n",
              "        await google.colab.output.renderOutput(dataTable, element);\n",
              "        const docLink = document.createElement('div');\n",
              "        docLink.innerHTML = docLinkHtml;\n",
              "        element.appendChild(docLink);\n",
              "      }\n",
              "    </script>\n",
              "  </div>\n",
              "\n",
              "\n",
              "<div id=\"df-6e49e30c-f9be-4453-b793-e0cd2421ac08\">\n",
              "  <button class=\"colab-df-quickchart\" onclick=\"quickchart('df-6e49e30c-f9be-4453-b793-e0cd2421ac08')\"\n",
              "            title=\"Suggest charts\"\n",
              "            style=\"display:none;\">\n",
              "\n",
              "<svg xmlns=\"http://www.w3.org/2000/svg\" height=\"24px\"viewBox=\"0 0 24 24\"\n",
              "     width=\"24px\">\n",
              "    <g>\n",
              "        <path d=\"M19 3H5c-1.1 0-2 .9-2 2v14c0 1.1.9 2 2 2h14c1.1 0 2-.9 2-2V5c0-1.1-.9-2-2-2zM9 17H7v-7h2v7zm4 0h-2V7h2v10zm4 0h-2v-4h2v4z\"/>\n",
              "    </g>\n",
              "</svg>\n",
              "  </button>\n",
              "\n",
              "<style>\n",
              "  .colab-df-quickchart {\n",
              "      --bg-color: #E8F0FE;\n",
              "      --fill-color: #1967D2;\n",
              "      --hover-bg-color: #E2EBFA;\n",
              "      --hover-fill-color: #174EA6;\n",
              "      --disabled-fill-color: #AAA;\n",
              "      --disabled-bg-color: #DDD;\n",
              "  }\n",
              "\n",
              "  [theme=dark] .colab-df-quickchart {\n",
              "      --bg-color: #3B4455;\n",
              "      --fill-color: #D2E3FC;\n",
              "      --hover-bg-color: #434B5C;\n",
              "      --hover-fill-color: #FFFFFF;\n",
              "      --disabled-bg-color: #3B4455;\n",
              "      --disabled-fill-color: #666;\n",
              "  }\n",
              "\n",
              "  .colab-df-quickchart {\n",
              "    background-color: var(--bg-color);\n",
              "    border: none;\n",
              "    border-radius: 50%;\n",
              "    cursor: pointer;\n",
              "    display: none;\n",
              "    fill: var(--fill-color);\n",
              "    height: 32px;\n",
              "    padding: 0;\n",
              "    width: 32px;\n",
              "  }\n",
              "\n",
              "  .colab-df-quickchart:hover {\n",
              "    background-color: var(--hover-bg-color);\n",
              "    box-shadow: 0 1px 2px rgba(60, 64, 67, 0.3), 0 1px 3px 1px rgba(60, 64, 67, 0.15);\n",
              "    fill: var(--button-hover-fill-color);\n",
              "  }\n",
              "\n",
              "  .colab-df-quickchart-complete:disabled,\n",
              "  .colab-df-quickchart-complete:disabled:hover {\n",
              "    background-color: var(--disabled-bg-color);\n",
              "    fill: var(--disabled-fill-color);\n",
              "    box-shadow: none;\n",
              "  }\n",
              "\n",
              "  .colab-df-spinner {\n",
              "    border: 2px solid var(--fill-color);\n",
              "    border-color: transparent;\n",
              "    border-bottom-color: var(--fill-color);\n",
              "    animation:\n",
              "      spin 1s steps(1) infinite;\n",
              "  }\n",
              "\n",
              "  @keyframes spin {\n",
              "    0% {\n",
              "      border-color: transparent;\n",
              "      border-bottom-color: var(--fill-color);\n",
              "      border-left-color: var(--fill-color);\n",
              "    }\n",
              "    20% {\n",
              "      border-color: transparent;\n",
              "      border-left-color: var(--fill-color);\n",
              "      border-top-color: var(--fill-color);\n",
              "    }\n",
              "    30% {\n",
              "      border-color: transparent;\n",
              "      border-left-color: var(--fill-color);\n",
              "      border-top-color: var(--fill-color);\n",
              "      border-right-color: var(--fill-color);\n",
              "    }\n",
              "    40% {\n",
              "      border-color: transparent;\n",
              "      border-right-color: var(--fill-color);\n",
              "      border-top-color: var(--fill-color);\n",
              "    }\n",
              "    60% {\n",
              "      border-color: transparent;\n",
              "      border-right-color: var(--fill-color);\n",
              "    }\n",
              "    80% {\n",
              "      border-color: transparent;\n",
              "      border-right-color: var(--fill-color);\n",
              "      border-bottom-color: var(--fill-color);\n",
              "    }\n",
              "    90% {\n",
              "      border-color: transparent;\n",
              "      border-bottom-color: var(--fill-color);\n",
              "    }\n",
              "  }\n",
              "</style>\n",
              "\n",
              "  <script>\n",
              "    async function quickchart(key) {\n",
              "      const quickchartButtonEl =\n",
              "        document.querySelector('#' + key + ' button');\n",
              "      quickchartButtonEl.disabled = true;  // To prevent multiple clicks.\n",
              "      quickchartButtonEl.classList.add('colab-df-spinner');\n",
              "      try {\n",
              "        const charts = await google.colab.kernel.invokeFunction(\n",
              "            'suggestCharts', [key], {});\n",
              "      } catch (error) {\n",
              "        console.error('Error during call to suggestCharts:', error);\n",
              "      }\n",
              "      quickchartButtonEl.classList.remove('colab-df-spinner');\n",
              "      quickchartButtonEl.classList.add('colab-df-quickchart-complete');\n",
              "    }\n",
              "    (() => {\n",
              "      let quickchartButtonEl =\n",
              "        document.querySelector('#df-6e49e30c-f9be-4453-b793-e0cd2421ac08 button');\n",
              "      quickchartButtonEl.style.display =\n",
              "        google.colab.kernel.accessAllowed ? 'block' : 'none';\n",
              "    })();\n",
              "  </script>\n",
              "</div>\n",
              "\n",
              "  <div id=\"id_fae280af-3748-4369-b035-7a07ef78e426\">\n",
              "    <style>\n",
              "      .colab-df-generate {\n",
              "        background-color: #E8F0FE;\n",
              "        border: none;\n",
              "        border-radius: 50%;\n",
              "        cursor: pointer;\n",
              "        display: none;\n",
              "        fill: #1967D2;\n",
              "        height: 32px;\n",
              "        padding: 0 0 0 0;\n",
              "        width: 32px;\n",
              "      }\n",
              "\n",
              "      .colab-df-generate:hover {\n",
              "        background-color: #E2EBFA;\n",
              "        box-shadow: 0px 1px 2px rgba(60, 64, 67, 0.3), 0px 1px 3px 1px rgba(60, 64, 67, 0.15);\n",
              "        fill: #174EA6;\n",
              "      }\n",
              "\n",
              "      [theme=dark] .colab-df-generate {\n",
              "        background-color: #3B4455;\n",
              "        fill: #D2E3FC;\n",
              "      }\n",
              "\n",
              "      [theme=dark] .colab-df-generate:hover {\n",
              "        background-color: #434B5C;\n",
              "        box-shadow: 0px 1px 3px 1px rgba(0, 0, 0, 0.15);\n",
              "        filter: drop-shadow(0px 1px 2px rgba(0, 0, 0, 0.3));\n",
              "        fill: #FFFFFF;\n",
              "      }\n",
              "    </style>\n",
              "    <button class=\"colab-df-generate\" onclick=\"generateWithVariable('movies')\"\n",
              "            title=\"Generate code using this dataframe.\"\n",
              "            style=\"display:none;\">\n",
              "\n",
              "  <svg xmlns=\"http://www.w3.org/2000/svg\" height=\"24px\"viewBox=\"0 0 24 24\"\n",
              "       width=\"24px\">\n",
              "    <path d=\"M7,19H8.4L18.45,9,17,7.55,7,17.6ZM5,21V16.75L18.45,3.32a2,2,0,0,1,2.83,0l1.4,1.43a1.91,1.91,0,0,1,.58,1.4,1.91,1.91,0,0,1-.58,1.4L9.25,21ZM18.45,9,17,7.55Zm-12,3A5.31,5.31,0,0,0,4.9,8.1,5.31,5.31,0,0,0,1,6.5,5.31,5.31,0,0,0,4.9,4.9,5.31,5.31,0,0,0,6.5,1,5.31,5.31,0,0,0,8.1,4.9,5.31,5.31,0,0,0,12,6.5,5.46,5.46,0,0,0,6.5,12Z\"/>\n",
              "  </svg>\n",
              "    </button>\n",
              "    <script>\n",
              "      (() => {\n",
              "      const buttonEl =\n",
              "        document.querySelector('#id_fae280af-3748-4369-b035-7a07ef78e426 button.colab-df-generate');\n",
              "      buttonEl.style.display =\n",
              "        google.colab.kernel.accessAllowed ? 'block' : 'none';\n",
              "\n",
              "      buttonEl.onclick = () => {\n",
              "        google.colab.notebook.generateWithVariable('movies');\n",
              "      }\n",
              "      })();\n",
              "    </script>\n",
              "  </div>\n",
              "\n",
              "    </div>\n",
              "  </div>\n"
            ],
            "application/vnd.google.colaboratory.intrinsic+json": {
              "type": "dataframe",
              "variable_name": "movies",
              "summary": "{\n  \"name\": \"movies\",\n  \"rows\": 100,\n  \"fields\": [\n    {\n      \"column\": \"movie_urls\",\n      \"properties\": {\n        \"dtype\": \"string\",\n        \"num_unique_values\": 100,\n        \"samples\": [\n          \"https://www.justwatch.com/in/movie/along-with-the-gods-the-two-worlds\",\n          \"https://www.justwatch.com/in/movie/joram\",\n          \"https://www.justwatch.com/in/movie/interstellar\"\n        ],\n        \"semantic_type\": \"\",\n        \"description\": \"\"\n      }\n    },\n    {\n      \"column\": \"movie_titles\",\n      \"properties\": {\n        \"dtype\": \"category\",\n        \"num_unique_values\": 35,\n        \"samples\": [\n          \"Kung Fu Panda\",\n          \"Amar Singh Chamkila\",\n          \"Kung Fu Panda 4\"\n        ],\n        \"semantic_type\": \"\",\n        \"description\": \"\"\n      }\n    },\n    {\n      \"column\": \"release_year\",\n      \"properties\": {\n        \"dtype\": \"category\",\n        \"num_unique_values\": 3,\n        \"samples\": [\n          \"(2024)\",\n          \"Year not found\",\n          \"(2023)\"\n        ],\n        \"semantic_type\": \"\",\n        \"description\": \"\"\n      }\n    },\n    {\n      \"column\": \"genres\",\n      \"properties\": {\n        \"dtype\": \"category\",\n        \"num_unique_values\": 9,\n        \"samples\": [\n          \"Action & Adventure, Mystery & Thriller, Drama\",\n          \"Comedy, Romance\",\n          \"NA\"\n        ],\n        \"semantic_type\": \"\",\n        \"description\": \"\"\n      }\n    },\n    {\n      \"column\": \"imdb_ratings\",\n      \"properties\": {\n        \"dtype\": \"category\",\n        \"num_unique_values\": 6,\n        \"samples\": [\n          \"6.4  (47k)\",\n          \"8.0  (7k)\",\n          \"7.6  (87k)\"\n        ],\n        \"semantic_type\": \"\",\n        \"description\": \"\"\n      }\n    },\n    {\n      \"column\": \"runtime\",\n      \"properties\": {\n        \"dtype\": \"category\",\n        \"num_unique_values\": 6,\n        \"samples\": [\n          \"2h 21min\",\n          \"2h 36min\",\n          \"2h 15min\"\n        ],\n        \"semantic_type\": \"\",\n        \"description\": \"\"\n      }\n    },\n    {\n      \"column\": \"age_ratings\",\n      \"properties\": {\n        \"dtype\": \"category\",\n        \"num_unique_values\": 3,\n        \"samples\": [\n          \"NA\",\n          \"U\",\n          \"A\"\n        ],\n        \"semantic_type\": \"\",\n        \"description\": \"\"\n      }\n    },\n    {\n      \"column\": \"prod_countries\",\n      \"properties\": {\n        \"dtype\": \"category\",\n        \"num_unique_values\": 2,\n        \"samples\": [\n          \"NA\",\n          \"India\"\n        ],\n        \"semantic_type\": \"\",\n        \"description\": \"\"\n      }\n    },\n    {\n      \"column\": \"streaming_services\",\n      \"properties\": {\n        \"dtype\": \"object\",\n        \"semantic_type\": \"\",\n        \"description\": \"\"\n      }\n    }\n  ]\n}"
            }
          },
          "metadata": {},
          "execution_count": 18
        }
      ],
      "source": [
        "# Write Your Code here\n",
        "data = {\"movie_urls\": movie_urls, \"movie_titles\": movie_titles,\"release_year\":release_year,\"genres\":genres_list,\"imdb_ratings\":imdb_ratings,\n",
        "       \"runtime\":runtime,\"age_ratings\":age_ratings,\"prod_countries\":prod_countries,\"streaming_services\":streaming_services}\n",
        "movies = pd.DataFrame(data)\n",
        "movies"
      ]
    },
    {
      "cell_type": "markdown",
      "metadata": {
        "id": "LYQ5acWzJRZr"
      },
      "source": [
        "## **Scraping TV  Show Data**"
      ]
    },
    {
      "cell_type": "code",
      "execution_count": null,
      "metadata": {
        "id": "Xic8FWfwI6AT"
      },
      "outputs": [],
      "source": [
        "# Specifying the URL from which tv show related data will be fetched\n",
        "tv_url='https://www.justwatch.com/in/tv-shows?release_year_from=2000'\n",
        "# Sending an HTTP GET request to the URL\n",
        "page=requests.get(tv_url)\n",
        "# Parsing the HTML content using BeautifulSoup with the 'html.parser'\n",
        "soup=BeautifulSoup(page.text,'html.parser')\n",
        "# Printing the prettified HTML content\n",
        "print(soup.prettify())"
      ]
    },
    {
      "cell_type": "markdown",
      "metadata": {
        "id": "ev-VUSNvJ-fJ"
      },
      "source": [
        "## **Fetching Tv shows Url details**"
      ]
    },
    {
      "cell_type": "code",
      "execution_count": null,
      "metadata": {
        "id": "eMlwT4I-8gGh"
      },
      "outputs": [],
      "source": [
        "# Write Your Code here\n",
        "tv_links = soup.find_all('a', class_='title-list-grid__item--link')\n",
        "tv_urls = [link['href'] for link in tv_links]\n",
        "base_url = 'https://www.justwatch.com'\n",
        "tv_urls = [base_url + link['href'] for link in tv_links]\n",
        "tv_urls"
      ]
    },
    {
      "cell_type": "markdown",
      "metadata": {
        "id": "1vZLzmqcKDPX"
      },
      "source": [
        "## **Fetching Tv Show Title details**"
      ]
    },
    {
      "cell_type": "code",
      "execution_count": null,
      "metadata": {
        "id": "a8Y6UF6-JLvO"
      },
      "outputs": [],
      "source": [
        "# Write Your Code here\n",
        "tv_titles = []\n",
        "for url in tv_urls:\n",
        "    response = requests.get(url)\n",
        "    soup = BeautifulSoup(response.content, 'html.parser')\n",
        "    h1_tag = soup.find('h1')\n",
        "    title = h1_tag.text.strip() if h1_tag else 'Title not found'\n",
        "    tv_titles.append(title)"
      ]
    },
    {
      "cell_type": "markdown",
      "metadata": {
        "id": "mEIt9j6RKa9B"
      },
      "source": [
        "## **Fetching Release Year**"
      ]
    },
    {
      "cell_type": "code",
      "execution_count": null,
      "metadata": {
        "id": "r72fyiF8JozW"
      },
      "outputs": [],
      "source": [
        "# Write Your Code here\n",
        "release_year = []\n",
        "for url in tv_urls:\n",
        "    response = requests.get(url)\n",
        "    soup = BeautifulSoup(response.content, 'html.parser')\n",
        "    year_span = soup.find('span', class_='text-muted')\n",
        "    year = year_span.text.strip() if year_span else 'Year not found'\n",
        "    release_year.append(year)"
      ]
    },
    {
      "cell_type": "markdown",
      "metadata": {
        "id": "P96pGO9kRCLv"
      },
      "source": [
        "## **Fetching TV Show Genre Details**"
      ]
    },
    {
      "cell_type": "code",
      "execution_count": null,
      "metadata": {
        "id": "Jay8a9xgT43-"
      },
      "outputs": [],
      "source": [
        "# Write Your Code here\n",
        "genres_list = []\n",
        "for url in tv_urls:\n",
        "    response = requests.get(url)\n",
        "    if response.status_code == 200:\n",
        "        soup = BeautifulSoup(response.content, 'html.parser')\n",
        "        heading_tag = soup.find('h3', class_='detail-infos__subheading', string='Genres')\n",
        "        if heading_tag:\n",
        "            genre_tag = heading_tag.find_next_sibling('div', class_='detail-infos__value')\n",
        "            if genre_tag:\n",
        "                genre = genre_tag.text.strip()\n",
        "                genres_list.append(genre)\n",
        "            else:\n",
        "                genres_list.append('NA')\n",
        "        else:\n",
        "            genres_list.append('NA')\n",
        "    else:\n",
        "        genres_list.append('NA')"
      ]
    },
    {
      "cell_type": "markdown",
      "metadata": {
        "id": "hk3eSdDAXQv8"
      },
      "source": [
        "## **Fetching IMDB Rating Details**"
      ]
    },
    {
      "cell_type": "code",
      "execution_count": null,
      "metadata": {
        "id": "EmltFOQEXM2W"
      },
      "outputs": [],
      "source": [
        "# Write Your Code here\n",
        "imdb_ratings = []\n",
        "for url in tv_urls:\n",
        "    response = requests.get(url)\n",
        "    if response.status_code == 200:\n",
        "        soup = BeautifulSoup(response.content, 'html.parser')\n",
        "        heading_tag = soup.find('h3', class_='detail-infos__subheading', string='Rating')\n",
        "        if heading_tag:\n",
        "            imdb_tag = heading_tag.find_next_sibling('div', class_='detail-infos__value')\n",
        "            if imdb_tag:\n",
        "                imdb = imdb_tag.text.strip()\n",
        "                imdb_ratings.append(imdb)\n",
        "            else:\n",
        "                imdb_ratings.append('NA')\n",
        "        else:\n",
        "            imdb_ratings.append('NA')\n",
        "    else:\n",
        "        imdb_ratings.append('NA')"
      ]
    },
    {
      "cell_type": "markdown",
      "metadata": {
        "id": "XZ9nJhmiZB_W"
      },
      "source": [
        "## **Fetching Age Rating Details**"
      ]
    },
    {
      "cell_type": "code",
      "execution_count": null,
      "metadata": {
        "id": "wR9Xo8piZA7p"
      },
      "outputs": [],
      "source": [
        "# Write Your Code here\n",
        "age_ratings = []\n",
        "for url in tv_urls:\n",
        "    response = requests.get(url)\n",
        "    if response.status_code == 200:\n",
        "        soup = BeautifulSoup(response.content, 'html.parser')\n",
        "        heading_tag = soup.find('h3', class_='detail-infos__subheading', string='Age rating')\n",
        "        if heading_tag:\n",
        "            age_tag = heading_tag.find_next_sibling('div', class_='detail-infos__value')\n",
        "            if runtime_tag:\n",
        "                age_rating = age_tag.text.strip()\n",
        "                age_ratings.append(age_rating)\n",
        "            else:\n",
        "                age_ratings.append('NA')\n",
        "        else:\n",
        "            age_ratings.append('NA')\n",
        "    else:\n",
        "        age_ratings.append('NA')"
      ]
    },
    {
      "cell_type": "markdown",
      "metadata": {
        "id": "ii49LH4tdNoN"
      },
      "source": [
        "## **Fetching Production Country details**"
      ]
    },
    {
      "cell_type": "code",
      "execution_count": null,
      "metadata": {
        "id": "xihOeyN8XXDt"
      },
      "outputs": [],
      "source": [
        "# Write Your Code here\n",
        "prod_countries = []\n",
        "for url in tv_urls:\n",
        "    response = requests.get(url)\n",
        "    if response.status_code == 200:\n",
        "        soup = BeautifulSoup(response.content, 'html.parser')\n",
        "        heading_tag = soup.find('h3', class_='detail-infos__subheading', string=' Production country ')\n",
        "        if heading_tag:\n",
        "            prod_tag = heading_tag.find_next_sibling('div', class_='detail-infos__value')\n",
        "            if runtime_tag:\n",
        "                prod_country = prod_tag.text.strip()\n",
        "                prod_countries.append(prod_country)\n",
        "            else:\n",
        "                prod_countries.append('NA')\n",
        "        else:\n",
        "            prod_countries.append('NA')\n",
        "    else:\n",
        "        prod_countries.append('NA')"
      ]
    },
    {
      "cell_type": "markdown",
      "metadata": {
        "id": "mHZwwgiKdlQm"
      },
      "source": [
        "## **Fetching Streaming Service details**"
      ]
    },
    {
      "cell_type": "code",
      "execution_count": null,
      "metadata": {
        "id": "_MBl6Vqadrl9"
      },
      "outputs": [],
      "source": [
        "# Write Your Code here\n",
        "streaming_services = []\n",
        "streaming_service_keywords = ['primevideo', 'netflix', 'jiocinema', 'hotstar', 'sonyliv', 'voot', 'zee5', 'apple tv+']\n",
        "\n",
        "for url in tv_urls:\n",
        "    response = requests.get(url)\n",
        "    if response.status_code == 200:\n",
        "        soup = BeautifulSoup(response.content, 'html.parser')\n",
        "        buybox_divs = soup.find_all('div', class_='buybox-row__offers')\n",
        "        services_found = set()\n",
        "        for buybox_div in buybox_divs:\n",
        "            offer_link = buybox_div.find('a')['href']\n",
        "            for keyword in streaming_service_keywords:\n",
        "                if re.search(keyword, offer_link, re.IGNORECASE):\n",
        "                    services_found.add(keyword)\n",
        "                    break\n",
        "        if services_found:\n",
        "            streaming_services.append(list(services_found))\n",
        "        else:\n",
        "            streaming_services.append([\"NA\"])\n",
        "    else:\n",
        "        streaming_services.append([\"NA\"])"
      ]
    },
    {
      "cell_type": "code",
      "execution_count": null,
      "metadata": {
        "colab": {
          "base_uri": "https://localhost:8080/"
        },
        "id": "tRgdCERgxWHU",
        "outputId": "60e4fe7a-05d3-4e14-f866-cb7f602f7750"
      },
      "outputs": [
        {
          "output_type": "execute_result",
          "data": {
            "text/plain": [
              "100"
            ]
          },
          "metadata": {},
          "execution_count": 28
        }
      ],
      "source": [
        "len(age_ratings)"
      ]
    },
    {
      "cell_type": "markdown",
      "metadata": {
        "id": "uUOtDJv9gM4a"
      },
      "source": [
        "## **Fetching Duration Details**"
      ]
    },
    {
      "cell_type": "code",
      "execution_count": null,
      "metadata": {
        "id": "o4x4YY6AfoL1"
      },
      "outputs": [],
      "source": [
        "# Write Your Code here\n",
        "runtime = []\n",
        "for url in tv_urls:\n",
        "    response = requests.get(url)\n",
        "    if response.status_code == 200:\n",
        "        soup = BeautifulSoup(response.content, 'html.parser')\n",
        "        heading_tag = soup.find('h3', class_='detail-infos__subheading', string='Runtime')\n",
        "        if heading_tag:\n",
        "            runtime_tag = heading_tag.find_next_sibling('div', class_='detail-infos__value')\n",
        "            if runtime_tag:\n",
        "                runtimes = runtime_tag.text.strip()\n",
        "                runtime.append(runtimes)\n",
        "            else:\n",
        "                runtime.append('NA')\n",
        "        else:\n",
        "            runtime.append('NA')\n",
        "    else:\n",
        "        runtime.append('NA')"
      ]
    },
    {
      "cell_type": "markdown",
      "metadata": {
        "id": "nD4QVPT-nfVR"
      },
      "source": [
        "## **Creating TV Show DataFrame**"
      ]
    },
    {
      "cell_type": "code",
      "execution_count": null,
      "metadata": {
        "id": "W3Lnlb-xip2U",
        "colab": {
          "base_uri": "https://localhost:8080/",
          "height": 487
        },
        "outputId": "d6716eed-0b79-4f0f-fce2-d52933eaa348"
      },
      "outputs": [
        {
          "output_type": "execute_result",
          "data": {
            "text/plain": [
              "                                           movie_urls  \\\n",
              "0   https://www.justwatch.com/in/movie/untitled-sh...   \n",
              "1          https://www.justwatch.com/in/movie/premalu   \n",
              "2         https://www.justwatch.com/in/movie/hanu-man   \n",
              "3      https://www.justwatch.com/in/movie/oppenheimer   \n",
              "4   https://www.justwatch.com/in/movie/anatomie-du...   \n",
              "..                                                ...   \n",
              "95     https://www.justwatch.com/in/movie/barbie-2023   \n",
              "96  https://www.justwatch.com/in/movie/case-of-kon...   \n",
              "97  https://www.justwatch.com/in/movie/joshua-imai...   \n",
              "98            https://www.justwatch.com/in/movie/2012   \n",
              "99  https://www.justwatch.com/in/movie/night-of-th...   \n",
              "\n",
              "                        movie_titles    release_year  \\\n",
              "0   Teri Baaton Mein Aisa Uljha Jiya          (2024)   \n",
              "1                            Premalu          (2018)   \n",
              "2                           Hanu-Man  Year not found   \n",
              "3                        Oppenheimer  Year not found   \n",
              "4                  Anatomy of a Fall  Year not found   \n",
              "..                               ...             ...   \n",
              "95                   Title not found  Year not found   \n",
              "96                   Title not found  Year not found   \n",
              "97                   Title not found          (2005)   \n",
              "98                   Title not found  Year not found   \n",
              "99                   Title not found  Year not found   \n",
              "\n",
              "                            genres imdb_ratings runtime age_ratings  \\\n",
              "0   Drama, War & Military, History   9.0  (84k)   59min          NA   \n",
              "1                                    8.5  (81k)   50min          NA   \n",
              "2                               NA           NA   56min          NA   \n",
              "3                               NA           NA   59min          NA   \n",
              "4                               NA           NA   33min          NA   \n",
              "..                             ...          ...     ...         ...   \n",
              "95                              NA           NA      NA          NA   \n",
              "96                              NA           NA      NA          NA   \n",
              "97                              NA           NA      NA          NA   \n",
              "98                              NA           NA      NA          NA   \n",
              "99                              NA           NA      NA          NA   \n",
              "\n",
              "   prod_countries streaming_services  \n",
              "0   United States          [hotstar]  \n",
              "1              NA       [primevideo]  \n",
              "2              NA               [NA]  \n",
              "3              NA               [NA]  \n",
              "4              NA               [NA]  \n",
              "..            ...                ...  \n",
              "95             NA               [NA]  \n",
              "96             NA               [NA]  \n",
              "97             NA               [NA]  \n",
              "98             NA               [NA]  \n",
              "99             NA               [NA]  \n",
              "\n",
              "[100 rows x 9 columns]"
            ],
            "text/html": [
              "\n",
              "  <div id=\"df-05890c4d-f10e-4bde-b2ca-dee09a76bfaf\" class=\"colab-df-container\">\n",
              "    <div>\n",
              "<style scoped>\n",
              "    .dataframe tbody tr th:only-of-type {\n",
              "        vertical-align: middle;\n",
              "    }\n",
              "\n",
              "    .dataframe tbody tr th {\n",
              "        vertical-align: top;\n",
              "    }\n",
              "\n",
              "    .dataframe thead th {\n",
              "        text-align: right;\n",
              "    }\n",
              "</style>\n",
              "<table border=\"1\" class=\"dataframe\">\n",
              "  <thead>\n",
              "    <tr style=\"text-align: right;\">\n",
              "      <th></th>\n",
              "      <th>movie_urls</th>\n",
              "      <th>movie_titles</th>\n",
              "      <th>release_year</th>\n",
              "      <th>genres</th>\n",
              "      <th>imdb_ratings</th>\n",
              "      <th>runtime</th>\n",
              "      <th>age_ratings</th>\n",
              "      <th>prod_countries</th>\n",
              "      <th>streaming_services</th>\n",
              "    </tr>\n",
              "  </thead>\n",
              "  <tbody>\n",
              "    <tr>\n",
              "      <th>0</th>\n",
              "      <td>https://www.justwatch.com/in/movie/untitled-sh...</td>\n",
              "      <td>Teri Baaton Mein Aisa Uljha Jiya</td>\n",
              "      <td>(2024)</td>\n",
              "      <td>Drama, War &amp; Military, History</td>\n",
              "      <td>9.0  (84k)</td>\n",
              "      <td>59min</td>\n",
              "      <td>NA</td>\n",
              "      <td>United States</td>\n",
              "      <td>[hotstar]</td>\n",
              "    </tr>\n",
              "    <tr>\n",
              "      <th>1</th>\n",
              "      <td>https://www.justwatch.com/in/movie/premalu</td>\n",
              "      <td>Premalu</td>\n",
              "      <td>(2018)</td>\n",
              "      <td></td>\n",
              "      <td>8.5  (81k)</td>\n",
              "      <td>50min</td>\n",
              "      <td>NA</td>\n",
              "      <td>NA</td>\n",
              "      <td>[primevideo]</td>\n",
              "    </tr>\n",
              "    <tr>\n",
              "      <th>2</th>\n",
              "      <td>https://www.justwatch.com/in/movie/hanu-man</td>\n",
              "      <td>Hanu-Man</td>\n",
              "      <td>Year not found</td>\n",
              "      <td>NA</td>\n",
              "      <td>NA</td>\n",
              "      <td>56min</td>\n",
              "      <td>NA</td>\n",
              "      <td>NA</td>\n",
              "      <td>[NA]</td>\n",
              "    </tr>\n",
              "    <tr>\n",
              "      <th>3</th>\n",
              "      <td>https://www.justwatch.com/in/movie/oppenheimer</td>\n",
              "      <td>Oppenheimer</td>\n",
              "      <td>Year not found</td>\n",
              "      <td>NA</td>\n",
              "      <td>NA</td>\n",
              "      <td>59min</td>\n",
              "      <td>NA</td>\n",
              "      <td>NA</td>\n",
              "      <td>[NA]</td>\n",
              "    </tr>\n",
              "    <tr>\n",
              "      <th>4</th>\n",
              "      <td>https://www.justwatch.com/in/movie/anatomie-du...</td>\n",
              "      <td>Anatomy of a Fall</td>\n",
              "      <td>Year not found</td>\n",
              "      <td>NA</td>\n",
              "      <td>NA</td>\n",
              "      <td>33min</td>\n",
              "      <td>NA</td>\n",
              "      <td>NA</td>\n",
              "      <td>[NA]</td>\n",
              "    </tr>\n",
              "    <tr>\n",
              "      <th>...</th>\n",
              "      <td>...</td>\n",
              "      <td>...</td>\n",
              "      <td>...</td>\n",
              "      <td>...</td>\n",
              "      <td>...</td>\n",
              "      <td>...</td>\n",
              "      <td>...</td>\n",
              "      <td>...</td>\n",
              "      <td>...</td>\n",
              "    </tr>\n",
              "    <tr>\n",
              "      <th>95</th>\n",
              "      <td>https://www.justwatch.com/in/movie/barbie-2023</td>\n",
              "      <td>Title not found</td>\n",
              "      <td>Year not found</td>\n",
              "      <td>NA</td>\n",
              "      <td>NA</td>\n",
              "      <td>NA</td>\n",
              "      <td>NA</td>\n",
              "      <td>NA</td>\n",
              "      <td>[NA]</td>\n",
              "    </tr>\n",
              "    <tr>\n",
              "      <th>96</th>\n",
              "      <td>https://www.justwatch.com/in/movie/case-of-kon...</td>\n",
              "      <td>Title not found</td>\n",
              "      <td>Year not found</td>\n",
              "      <td>NA</td>\n",
              "      <td>NA</td>\n",
              "      <td>NA</td>\n",
              "      <td>NA</td>\n",
              "      <td>NA</td>\n",
              "      <td>[NA]</td>\n",
              "    </tr>\n",
              "    <tr>\n",
              "      <th>97</th>\n",
              "      <td>https://www.justwatch.com/in/movie/joshua-imai...</td>\n",
              "      <td>Title not found</td>\n",
              "      <td>(2005)</td>\n",
              "      <td>NA</td>\n",
              "      <td>NA</td>\n",
              "      <td>NA</td>\n",
              "      <td>NA</td>\n",
              "      <td>NA</td>\n",
              "      <td>[NA]</td>\n",
              "    </tr>\n",
              "    <tr>\n",
              "      <th>98</th>\n",
              "      <td>https://www.justwatch.com/in/movie/2012</td>\n",
              "      <td>Title not found</td>\n",
              "      <td>Year not found</td>\n",
              "      <td>NA</td>\n",
              "      <td>NA</td>\n",
              "      <td>NA</td>\n",
              "      <td>NA</td>\n",
              "      <td>NA</td>\n",
              "      <td>[NA]</td>\n",
              "    </tr>\n",
              "    <tr>\n",
              "      <th>99</th>\n",
              "      <td>https://www.justwatch.com/in/movie/night-of-th...</td>\n",
              "      <td>Title not found</td>\n",
              "      <td>Year not found</td>\n",
              "      <td>NA</td>\n",
              "      <td>NA</td>\n",
              "      <td>NA</td>\n",
              "      <td>NA</td>\n",
              "      <td>NA</td>\n",
              "      <td>[NA]</td>\n",
              "    </tr>\n",
              "  </tbody>\n",
              "</table>\n",
              "<p>100 rows × 9 columns</p>\n",
              "</div>\n",
              "    <div class=\"colab-df-buttons\">\n",
              "\n",
              "  <div class=\"colab-df-container\">\n",
              "    <button class=\"colab-df-convert\" onclick=\"convertToInteractive('df-05890c4d-f10e-4bde-b2ca-dee09a76bfaf')\"\n",
              "            title=\"Convert this dataframe to an interactive table.\"\n",
              "            style=\"display:none;\">\n",
              "\n",
              "  <svg xmlns=\"http://www.w3.org/2000/svg\" height=\"24px\" viewBox=\"0 -960 960 960\">\n",
              "    <path d=\"M120-120v-720h720v720H120Zm60-500h600v-160H180v160Zm220 220h160v-160H400v160Zm0 220h160v-160H400v160ZM180-400h160v-160H180v160Zm440 0h160v-160H620v160ZM180-180h160v-160H180v160Zm440 0h160v-160H620v160Z\"/>\n",
              "  </svg>\n",
              "    </button>\n",
              "\n",
              "  <style>\n",
              "    .colab-df-container {\n",
              "      display:flex;\n",
              "      gap: 12px;\n",
              "    }\n",
              "\n",
              "    .colab-df-convert {\n",
              "      background-color: #E8F0FE;\n",
              "      border: none;\n",
              "      border-radius: 50%;\n",
              "      cursor: pointer;\n",
              "      display: none;\n",
              "      fill: #1967D2;\n",
              "      height: 32px;\n",
              "      padding: 0 0 0 0;\n",
              "      width: 32px;\n",
              "    }\n",
              "\n",
              "    .colab-df-convert:hover {\n",
              "      background-color: #E2EBFA;\n",
              "      box-shadow: 0px 1px 2px rgba(60, 64, 67, 0.3), 0px 1px 3px 1px rgba(60, 64, 67, 0.15);\n",
              "      fill: #174EA6;\n",
              "    }\n",
              "\n",
              "    .colab-df-buttons div {\n",
              "      margin-bottom: 4px;\n",
              "    }\n",
              "\n",
              "    [theme=dark] .colab-df-convert {\n",
              "      background-color: #3B4455;\n",
              "      fill: #D2E3FC;\n",
              "    }\n",
              "\n",
              "    [theme=dark] .colab-df-convert:hover {\n",
              "      background-color: #434B5C;\n",
              "      box-shadow: 0px 1px 3px 1px rgba(0, 0, 0, 0.15);\n",
              "      filter: drop-shadow(0px 1px 2px rgba(0, 0, 0, 0.3));\n",
              "      fill: #FFFFFF;\n",
              "    }\n",
              "  </style>\n",
              "\n",
              "    <script>\n",
              "      const buttonEl =\n",
              "        document.querySelector('#df-05890c4d-f10e-4bde-b2ca-dee09a76bfaf button.colab-df-convert');\n",
              "      buttonEl.style.display =\n",
              "        google.colab.kernel.accessAllowed ? 'block' : 'none';\n",
              "\n",
              "      async function convertToInteractive(key) {\n",
              "        const element = document.querySelector('#df-05890c4d-f10e-4bde-b2ca-dee09a76bfaf');\n",
              "        const dataTable =\n",
              "          await google.colab.kernel.invokeFunction('convertToInteractive',\n",
              "                                                    [key], {});\n",
              "        if (!dataTable) return;\n",
              "\n",
              "        const docLinkHtml = 'Like what you see? Visit the ' +\n",
              "          '<a target=\"_blank\" href=https://colab.research.google.com/notebooks/data_table.ipynb>data table notebook</a>'\n",
              "          + ' to learn more about interactive tables.';\n",
              "        element.innerHTML = '';\n",
              "        dataTable['output_type'] = 'display_data';\n",
              "        await google.colab.output.renderOutput(dataTable, element);\n",
              "        const docLink = document.createElement('div');\n",
              "        docLink.innerHTML = docLinkHtml;\n",
              "        element.appendChild(docLink);\n",
              "      }\n",
              "    </script>\n",
              "  </div>\n",
              "\n",
              "\n",
              "<div id=\"df-f3f54538-7741-4bc7-b0fb-06ea94f88a6a\">\n",
              "  <button class=\"colab-df-quickchart\" onclick=\"quickchart('df-f3f54538-7741-4bc7-b0fb-06ea94f88a6a')\"\n",
              "            title=\"Suggest charts\"\n",
              "            style=\"display:none;\">\n",
              "\n",
              "<svg xmlns=\"http://www.w3.org/2000/svg\" height=\"24px\"viewBox=\"0 0 24 24\"\n",
              "     width=\"24px\">\n",
              "    <g>\n",
              "        <path d=\"M19 3H5c-1.1 0-2 .9-2 2v14c0 1.1.9 2 2 2h14c1.1 0 2-.9 2-2V5c0-1.1-.9-2-2-2zM9 17H7v-7h2v7zm4 0h-2V7h2v10zm4 0h-2v-4h2v4z\"/>\n",
              "    </g>\n",
              "</svg>\n",
              "  </button>\n",
              "\n",
              "<style>\n",
              "  .colab-df-quickchart {\n",
              "      --bg-color: #E8F0FE;\n",
              "      --fill-color: #1967D2;\n",
              "      --hover-bg-color: #E2EBFA;\n",
              "      --hover-fill-color: #174EA6;\n",
              "      --disabled-fill-color: #AAA;\n",
              "      --disabled-bg-color: #DDD;\n",
              "  }\n",
              "\n",
              "  [theme=dark] .colab-df-quickchart {\n",
              "      --bg-color: #3B4455;\n",
              "      --fill-color: #D2E3FC;\n",
              "      --hover-bg-color: #434B5C;\n",
              "      --hover-fill-color: #FFFFFF;\n",
              "      --disabled-bg-color: #3B4455;\n",
              "      --disabled-fill-color: #666;\n",
              "  }\n",
              "\n",
              "  .colab-df-quickchart {\n",
              "    background-color: var(--bg-color);\n",
              "    border: none;\n",
              "    border-radius: 50%;\n",
              "    cursor: pointer;\n",
              "    display: none;\n",
              "    fill: var(--fill-color);\n",
              "    height: 32px;\n",
              "    padding: 0;\n",
              "    width: 32px;\n",
              "  }\n",
              "\n",
              "  .colab-df-quickchart:hover {\n",
              "    background-color: var(--hover-bg-color);\n",
              "    box-shadow: 0 1px 2px rgba(60, 64, 67, 0.3), 0 1px 3px 1px rgba(60, 64, 67, 0.15);\n",
              "    fill: var(--button-hover-fill-color);\n",
              "  }\n",
              "\n",
              "  .colab-df-quickchart-complete:disabled,\n",
              "  .colab-df-quickchart-complete:disabled:hover {\n",
              "    background-color: var(--disabled-bg-color);\n",
              "    fill: var(--disabled-fill-color);\n",
              "    box-shadow: none;\n",
              "  }\n",
              "\n",
              "  .colab-df-spinner {\n",
              "    border: 2px solid var(--fill-color);\n",
              "    border-color: transparent;\n",
              "    border-bottom-color: var(--fill-color);\n",
              "    animation:\n",
              "      spin 1s steps(1) infinite;\n",
              "  }\n",
              "\n",
              "  @keyframes spin {\n",
              "    0% {\n",
              "      border-color: transparent;\n",
              "      border-bottom-color: var(--fill-color);\n",
              "      border-left-color: var(--fill-color);\n",
              "    }\n",
              "    20% {\n",
              "      border-color: transparent;\n",
              "      border-left-color: var(--fill-color);\n",
              "      border-top-color: var(--fill-color);\n",
              "    }\n",
              "    30% {\n",
              "      border-color: transparent;\n",
              "      border-left-color: var(--fill-color);\n",
              "      border-top-color: var(--fill-color);\n",
              "      border-right-color: var(--fill-color);\n",
              "    }\n",
              "    40% {\n",
              "      border-color: transparent;\n",
              "      border-right-color: var(--fill-color);\n",
              "      border-top-color: var(--fill-color);\n",
              "    }\n",
              "    60% {\n",
              "      border-color: transparent;\n",
              "      border-right-color: var(--fill-color);\n",
              "    }\n",
              "    80% {\n",
              "      border-color: transparent;\n",
              "      border-right-color: var(--fill-color);\n",
              "      border-bottom-color: var(--fill-color);\n",
              "    }\n",
              "    90% {\n",
              "      border-color: transparent;\n",
              "      border-bottom-color: var(--fill-color);\n",
              "    }\n",
              "  }\n",
              "</style>\n",
              "\n",
              "  <script>\n",
              "    async function quickchart(key) {\n",
              "      const quickchartButtonEl =\n",
              "        document.querySelector('#' + key + ' button');\n",
              "      quickchartButtonEl.disabled = true;  // To prevent multiple clicks.\n",
              "      quickchartButtonEl.classList.add('colab-df-spinner');\n",
              "      try {\n",
              "        const charts = await google.colab.kernel.invokeFunction(\n",
              "            'suggestCharts', [key], {});\n",
              "      } catch (error) {\n",
              "        console.error('Error during call to suggestCharts:', error);\n",
              "      }\n",
              "      quickchartButtonEl.classList.remove('colab-df-spinner');\n",
              "      quickchartButtonEl.classList.add('colab-df-quickchart-complete');\n",
              "    }\n",
              "    (() => {\n",
              "      let quickchartButtonEl =\n",
              "        document.querySelector('#df-f3f54538-7741-4bc7-b0fb-06ea94f88a6a button');\n",
              "      quickchartButtonEl.style.display =\n",
              "        google.colab.kernel.accessAllowed ? 'block' : 'none';\n",
              "    })();\n",
              "  </script>\n",
              "</div>\n",
              "\n",
              "  <div id=\"id_4f34ad28-f288-4e24-a61c-e0b65f3ca4a1\">\n",
              "    <style>\n",
              "      .colab-df-generate {\n",
              "        background-color: #E8F0FE;\n",
              "        border: none;\n",
              "        border-radius: 50%;\n",
              "        cursor: pointer;\n",
              "        display: none;\n",
              "        fill: #1967D2;\n",
              "        height: 32px;\n",
              "        padding: 0 0 0 0;\n",
              "        width: 32px;\n",
              "      }\n",
              "\n",
              "      .colab-df-generate:hover {\n",
              "        background-color: #E2EBFA;\n",
              "        box-shadow: 0px 1px 2px rgba(60, 64, 67, 0.3), 0px 1px 3px 1px rgba(60, 64, 67, 0.15);\n",
              "        fill: #174EA6;\n",
              "      }\n",
              "\n",
              "      [theme=dark] .colab-df-generate {\n",
              "        background-color: #3B4455;\n",
              "        fill: #D2E3FC;\n",
              "      }\n",
              "\n",
              "      [theme=dark] .colab-df-generate:hover {\n",
              "        background-color: #434B5C;\n",
              "        box-shadow: 0px 1px 3px 1px rgba(0, 0, 0, 0.15);\n",
              "        filter: drop-shadow(0px 1px 2px rgba(0, 0, 0, 0.3));\n",
              "        fill: #FFFFFF;\n",
              "      }\n",
              "    </style>\n",
              "    <button class=\"colab-df-generate\" onclick=\"generateWithVariable('tv_shows')\"\n",
              "            title=\"Generate code using this dataframe.\"\n",
              "            style=\"display:none;\">\n",
              "\n",
              "  <svg xmlns=\"http://www.w3.org/2000/svg\" height=\"24px\"viewBox=\"0 0 24 24\"\n",
              "       width=\"24px\">\n",
              "    <path d=\"M7,19H8.4L18.45,9,17,7.55,7,17.6ZM5,21V16.75L18.45,3.32a2,2,0,0,1,2.83,0l1.4,1.43a1.91,1.91,0,0,1,.58,1.4,1.91,1.91,0,0,1-.58,1.4L9.25,21ZM18.45,9,17,7.55Zm-12,3A5.31,5.31,0,0,0,4.9,8.1,5.31,5.31,0,0,0,1,6.5,5.31,5.31,0,0,0,4.9,4.9,5.31,5.31,0,0,0,6.5,1,5.31,5.31,0,0,0,8.1,4.9,5.31,5.31,0,0,0,12,6.5,5.46,5.46,0,0,0,6.5,12Z\"/>\n",
              "  </svg>\n",
              "    </button>\n",
              "    <script>\n",
              "      (() => {\n",
              "      const buttonEl =\n",
              "        document.querySelector('#id_4f34ad28-f288-4e24-a61c-e0b65f3ca4a1 button.colab-df-generate');\n",
              "      buttonEl.style.display =\n",
              "        google.colab.kernel.accessAllowed ? 'block' : 'none';\n",
              "\n",
              "      buttonEl.onclick = () => {\n",
              "        google.colab.notebook.generateWithVariable('tv_shows');\n",
              "      }\n",
              "      })();\n",
              "    </script>\n",
              "  </div>\n",
              "\n",
              "    </div>\n",
              "  </div>\n"
            ],
            "application/vnd.google.colaboratory.intrinsic+json": {
              "type": "dataframe",
              "variable_name": "tv_shows",
              "summary": "{\n  \"name\": \"tv_shows\",\n  \"rows\": 100,\n  \"fields\": [\n    {\n      \"column\": \"movie_urls\",\n      \"properties\": {\n        \"dtype\": \"string\",\n        \"num_unique_values\": 100,\n        \"samples\": [\n          \"https://www.justwatch.com/in/movie/along-with-the-gods-the-two-worlds\",\n          \"https://www.justwatch.com/in/movie/joram\",\n          \"https://www.justwatch.com/in/movie/interstellar\"\n        ],\n        \"semantic_type\": \"\",\n        \"description\": \"\"\n      }\n    },\n    {\n      \"column\": \"movie_titles\",\n      \"properties\": {\n        \"dtype\": \"category\",\n        \"num_unique_values\": 35,\n        \"samples\": [\n          \"Kung Fu Panda\",\n          \"Amar Singh Chamkila\",\n          \"Kung Fu Panda 4\"\n        ],\n        \"semantic_type\": \"\",\n        \"description\": \"\"\n      }\n    },\n    {\n      \"column\": \"release_year\",\n      \"properties\": {\n        \"dtype\": \"category\",\n        \"num_unique_values\": 5,\n        \"samples\": [\n          \"(2018)\",\n          \"(2005)\",\n          \"Year not found\"\n        ],\n        \"semantic_type\": \"\",\n        \"description\": \"\"\n      }\n    },\n    {\n      \"column\": \"genres\",\n      \"properties\": {\n        \"dtype\": \"category\",\n        \"num_unique_values\": 5,\n        \"samples\": [\n          \"\",\n          \"Mystery & Thriller, Drama\",\n          \"NA\"\n        ],\n        \"semantic_type\": \"\",\n        \"description\": \"\"\n      }\n    },\n    {\n      \"column\": \"imdb_ratings\",\n      \"properties\": {\n        \"dtype\": \"category\",\n        \"num_unique_values\": 5,\n        \"samples\": [\n          \"8.5  (81k)\",\n          \"5.5\",\n          \"NA\"\n        ],\n        \"semantic_type\": \"\",\n        \"description\": \"\"\n      }\n    },\n    {\n      \"column\": \"runtime\",\n      \"properties\": {\n        \"dtype\": \"category\",\n        \"num_unique_values\": 7,\n        \"samples\": [\n          \"59min\",\n          \"50min\",\n          \"49min\"\n        ],\n        \"semantic_type\": \"\",\n        \"description\": \"\"\n      }\n    },\n    {\n      \"column\": \"age_ratings\",\n      \"properties\": {\n        \"dtype\": \"category\",\n        \"num_unique_values\": 2,\n        \"samples\": [\n          \"U\",\n          \"NA\"\n        ],\n        \"semantic_type\": \"\",\n        \"description\": \"\"\n      }\n    },\n    {\n      \"column\": \"prod_countries\",\n      \"properties\": {\n        \"dtype\": \"category\",\n        \"num_unique_values\": 2,\n        \"samples\": [\n          \"NA\",\n          \"United States\"\n        ],\n        \"semantic_type\": \"\",\n        \"description\": \"\"\n      }\n    },\n    {\n      \"column\": \"streaming_services\",\n      \"properties\": {\n        \"dtype\": \"object\",\n        \"semantic_type\": \"\",\n        \"description\": \"\"\n      }\n    }\n  ]\n}"
            }
          },
          "metadata": {},
          "execution_count": 30
        }
      ],
      "source": [
        "# Write Your Code here\n",
        "data = {\"movie_urls\": movie_urls, \"movie_titles\": movie_titles,\"release_year\":release_year,\"genres\":genres_list,\"imdb_ratings\":imdb_ratings,\n",
        "       \"runtime\":runtime,\"age_ratings\":age_ratings,\"prod_countries\":prod_countries,\"streaming_services\":streaming_services}\n",
        "tv_shows = pd.DataFrame(data)\n",
        "tv_shows"
      ]
    },
    {
      "cell_type": "markdown",
      "metadata": {
        "id": "CyqHHKh4IDx6"
      },
      "source": [
        "# **Data Filtering & Analysis**"
      ]
    },
    {
      "cell_type": "code",
      "execution_count": null,
      "metadata": {
        "id": "ly64H04vH1v9"
      },
      "outputs": [],
      "source": [
        "# Write Your Code here\n",
        "def process_imdb_rating(rating):\n",
        "    if rating == 'NA':\n",
        "        return None\n",
        "    else:\n",
        "        rating_numeric = re.sub(r'\\(.*?\\)', '', rating).strip()\n",
        "        return float(rating_numeric) if rating_numeric else None\n",
        "movies_filtered = movies.copy()\n",
        "tv_shows_filtered = tv_shows.copy()\n",
        "movies_filtered['imdb_ratings'] =  movies_filtered['imdb_ratings'].apply(process_imdb_rating)\n",
        "tv_shows_filtered['imdb_ratings'] =  tv_shows_filtered['imdb_ratings'].apply(process_imdb_rating)\n",
        "\n",
        "movies_filtered['streaming_services'] = movies_filtered['streaming_services'].apply(lambda x: ', '.join(x) if isinstance(x, list) else x)\n",
        "tv_shows_filtered['streaming_services'] = tv_shows_filtered['streaming_services'].apply(lambda x: ', '.join(x) if isinstance(x, list) else x)"
      ]
    },
    {
      "cell_type": "markdown",
      "metadata": {
        "id": "0bPDbn-gPyfm"
      },
      "source": [
        "## **Calculating Mean IMDB Ratings for both Movies and Tv Shows**"
      ]
    },
    {
      "cell_type": "code",
      "execution_count": null,
      "metadata": {
        "id": "6aGmGPOlIkk4",
        "colab": {
          "base_uri": "https://localhost:8080/"
        },
        "outputId": "eb1f7f28-3a23-4736-c811-c24e68c9840e"
      },
      "outputs": [
        {
          "output_type": "stream",
          "name": "stdout",
          "text": [
            "7.3\n",
            "7.975\n"
          ]
        }
      ],
      "source": [
        "# Write Your Code here\n",
        "print(movies_filtered['imdb_ratings'].mean())\n",
        "print(tv_shows_filtered['imdb_ratings'].mean())"
      ]
    },
    {
      "cell_type": "markdown",
      "metadata": {
        "id": "N_OroblUQG4r"
      },
      "source": [
        "## **Analyzing Top Genres**"
      ]
    },
    {
      "cell_type": "code",
      "execution_count": null,
      "metadata": {
        "id": "4ljPnIn2LJLZ"
      },
      "outputs": [],
      "source": [
        "# Write Your Code here\n",
        "genres_count = {}\n",
        "for genres in movies_filtered['genres']:\n",
        "    if genres != 'NA':\n",
        "        for genre in genres.split(','):\n",
        "            genre = genre.strip()\n",
        "            genres_count[genre] = genres_count.get(genre, 0) + 1\n",
        "\n",
        "top_genres_movies = sorted(genres_count.items(), key=lambda x: x[1], reverse=True)\n",
        "\n",
        "genres_count = {}\n",
        "for genres in tv_shows_filtered['genres']:\n",
        "    if genres != 'NA':\n",
        "        for genre in genres.split(','):\n",
        "            genre = genre.strip()\n",
        "            genres_count[genre] = genres_count.get(genre, 0) + 1\n",
        "\n",
        "top_genres_tv_shows = sorted(genres_count.items(), key=lambda x: x[1], reverse=True)"
      ]
    },
    {
      "cell_type": "code",
      "execution_count": null,
      "metadata": {
        "id": "7Nqu7MEEYa3c",
        "colab": {
          "base_uri": "https://localhost:8080/",
          "height": 831
        },
        "outputId": "594279ff-b989-43ce-c206-f25dcf08e42e"
      },
      "outputs": [
        {
          "output_type": "display_data",
          "data": {
            "text/plain": [
              "<Figure size 1000x600 with 1 Axes>"
            ],
            "image/png": "[encoded data removed]"
          },
          "metadata": {}
        },
        {
          "output_type": "display_data",
          "data": {
            "text/plain": [
              "<Figure size 1000x600 with 1 Axes>"
            ],
            "image/png": "[encoded data removed]"
          },
          "metadata": {}
        }
      ],
      "source": [
        "#Let's Visvalize it using word cloud\n",
        "from wordcloud import WordCloud\n",
        "import matplotlib.pyplot as plt\n",
        "wordcloud = WordCloud(width=800, height=400, background_color='white').generate_from_frequencies(dict(top_genres_movies))\n",
        "plt.figure(figsize=(10, 6))\n",
        "plt.imshow(wordcloud, interpolation='bilinear')\n",
        "plt.axis('off')\n",
        "plt.show()\n",
        "\n",
        "\n",
        "wordcloud = WordCloud(width=800, height=400, background_color='white').generate_from_frequencies(dict(top_genres_tv_shows))\n",
        "plt.figure(figsize=(10, 6))\n",
        "plt.imshow(wordcloud, interpolation='bilinear')\n",
        "plt.axis('off')\n",
        "plt.show()"
      ]
    },
    {
      "cell_type": "markdown",
      "metadata": {
        "id": "BUPye0P0QP5I"
      },
      "source": [
        "## **Finding Predominant Streaming Service**"
      ]
    },
    {
      "cell_type": "code",
      "execution_count": null,
      "metadata": {
        "id": "cLXiCZSAO_40"
      },
      "outputs": [],
      "source": [
        "# Write Your Code here\n",
        "streaming_services_count = {}\n",
        "\n",
        "for services in movies_filtered['streaming_services']:\n",
        "    # Check if services is not 'NA'\n",
        "    if services != 'NA':\n",
        "        for service in services.split(','):\n",
        "            service = service.strip()\n",
        "            streaming_services_count[service] = streaming_services_count.get(service, 0) + 1\n",
        "streaming_services_counts_sorted = pd.Series(streaming_services_count).sort_values(ascending=False)\n",
        "\n",
        "\n",
        "streaming_services_count = {}\n",
        "\n",
        "for services in tv_shows_filtered['streaming_services']:\n",
        "    # Check if services is not 'NA'\n",
        "    if services != 'NA':\n",
        "        for service in services.split(','):\n",
        "            service = service.strip()\n",
        "            streaming_services_count[service] = streaming_services_count.get(service, 0) + 1\n",
        "streaming_services_counts_sorted_tv = pd.Series(streaming_services_count).sort_values(ascending=False)\n"
      ]
    },
    {
      "cell_type": "code",
      "execution_count": null,
      "metadata": {
        "id": "e0xdIO8APJYm",
        "colab": {
          "base_uri": "https://localhost:8080/",
          "height": 831
        },
        "outputId": "87d74305-1e32-4446-f519-fc09a66bbf11"
      },
      "outputs": [
        {
          "output_type": "display_data",
          "data": {
            "text/plain": [
              "<Figure size 1000x600 with 1 Axes>"
            ],
            "image/png": "[encoded data removed]"
          },
          "metadata": {}
        },
        {
          "output_type": "display_data",
          "data": {
            "text/plain": [
              "<Figure size 1000x600 with 1 Axes>"
            ],
            "image/png": "[encoded data removed]"
          },
          "metadata": {}
        }
      ],
      "source": [
        "#Let's Visvalize it using word cloud\n",
        "wordcloud = WordCloud(width=800, height=400, background_color='white').generate_from_frequencies(dict(streaming_services_counts_sorted))\n",
        "plt.figure(figsize=(10, 6))\n",
        "plt.imshow(wordcloud, interpolation='bilinear')\n",
        "plt.axis('off')\n",
        "plt.show()\n",
        "\n",
        "\n",
        "wordcloud = WordCloud(width=800, height=400, background_color='white').generate_from_frequencies(dict(streaming_services_counts_sorted_tv))\n",
        "plt.figure(figsize=(10, 6))\n",
        "plt.imshow(wordcloud, interpolation='bilinear')\n",
        "plt.axis('off')\n",
        "plt.show()"
      ]
    },
    {
      "cell_type": "markdown",
      "metadata": {
        "id": "tytqsADVR2x6"
      },
      "source": [
        "# **Data Export**"
      ]
    },
    {
      "cell_type": "code",
      "execution_count": null,
      "metadata": {
        "id": "u4yaUlvrRj6g"
      },
      "outputs": [],
      "source": [
        "#saving final dataframe as Final Data in csv format\n",
        "movies.to_csv(\"movies.csv\")\n",
        "tv_shows.to_csv(\"tv_shows.csv\")"
      ]
    },
    {
      "cell_type": "code",
      "execution_count": null,
      "metadata": {
        "id": "SSmCEV22SSW_"
      },
      "outputs": [],
      "source": [
        "#saving filter data as Filter Data in csv format\n",
        "tv_shows_filtered.to_csv(\"tv_shows_filtered.csv\")\n",
        "movies_filtered.to_csv(\"movies_filtered.csv\")"
      ]
    }
  ],
  "metadata": {
    "colab": {
      "provenance": []
    },
    "kernelspec": {
      "display_name": "Python 3 (ipykernel)",
      "language": "python",
      "name": "python3"
    },
    "language_info": {
      "codemirror_mode": {
        "name": "ipython",
        "version": 3
      },
      "file_extension": ".py",
      "mimetype": "text/x-python",
      "name": "python",
      "nbconvert_exporter": "python",
      "pygments_lexer": "ipython3",
      "version": "3.11.5"
    }
  },
  "nbformat": 4,
  "nbformat_minor": 0
}